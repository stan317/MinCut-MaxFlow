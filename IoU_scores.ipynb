{
 "cells": [
  {
   "cell_type": "code",
   "execution_count": null,
   "metadata": {},
   "outputs": [],
   "source": [
    "from skimage.io import imread\n",
    "import matplotlib.pyplot as plt\n",
    "import numpy as np\n",
    "import networkx  as nx\n",
    "img = imread(\"C:/Users/stan2/Documents/4A/Comp Imaging/MinCut-MaxFlow/dataset/images/227092.jpg\")[50:250,280:480]\n",
    "img_gt = imread(\"C:/Users/stan2/Documents/4A/Comp Imaging/MinCut-MaxFlow/dataset/images-gt/227092.png\")[50:250,280:480]\n",
    "\n",
    "img_label = imread(\"C:/Users/stan2/Documents/4A/Comp Imaging/MinCut-MaxFlow/dataset/images-labels/227092-anno.png\")[50:250,280:480]"
   ]
  }
 ],
 "metadata": {
  "language_info": {
   "name": "python"
  },
  "orig_nbformat": 4
 },
 "nbformat": 4,
 "nbformat_minor": 2
}
